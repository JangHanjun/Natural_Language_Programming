{
  "nbformat": 4,
  "nbformat_minor": 0,
  "metadata": {
    "colab": {
      "name": "CharRNNLotData.ipynb",
      "provenance": [],
      "authorship_tag": "ABX9TyMf5Qq2N8Q+AJMq1kkcpayL",
      "include_colab_link": true
    },
    "kernelspec": {
      "name": "python3",
      "display_name": "Python 3"
    },
    "language_info": {
      "name": "python"
    }
  },
  "cells": [
    {
      "cell_type": "markdown",
      "metadata": {
        "id": "view-in-github",
        "colab_type": "text"
      },
      "source": [
        "<a href=\"https://colab.research.google.com/github/JangHanjun/Natural_Language_Programming/blob/main/Chapter11/CharRNNLotData.ipynb\" target=\"_parent\"><img src=\"https://colab.research.google.com/assets/colab-badge.svg\" alt=\"Open In Colab\"/></a>"
      ]
    },
    {
      "cell_type": "code",
      "execution_count": 14,
      "metadata": {
        "id": "vlWS_CNi0pT6"
      },
      "outputs": [],
      "source": [
        "import torch\n",
        "import torch.nn as nn\n",
        "import torch.optim as optim\n",
        "import numpy as np"
      ]
    },
    {
      "cell_type": "code",
      "source": [
        "sentences = (\"if you want to build a ship, don't drum up people together to \"\n",
        "            \"collect wood and don't assign them tasks and work, but rather \"\n",
        "            \"teach them to long for the endless immensity of the sea.\")"
      ],
      "metadata": {
        "id": "E4TVFTvJkckm"
      },
      "execution_count": 3,
      "outputs": []
    },
    {
      "cell_type": "code",
      "source": [
        "char_set = list(set(sentences))\n",
        "char_dic = {c : i for i, c in enumerate(char_set)}\n",
        "\n",
        "print(char_dic)"
      ],
      "metadata": {
        "colab": {
          "base_uri": "https://localhost:8080/"
        },
        "id": "FaITozWdknAN",
        "outputId": "4e26535e-e8db-4ff5-d64a-4fba15af921b"
      },
      "execution_count": 7,
      "outputs": [
        {
          "output_type": "stream",
          "name": "stdout",
          "text": [
            "{'s': 0, 'i': 1, 't': 2, 'm': 3, ',': 4, \"'\": 5, 'b': 6, 'f': 7, 'l': 8, ' ': 9, 'a': 10, 'e': 11, 'p': 12, 'c': 13, 'd': 14, 'k': 15, 'w': 16, 'g': 17, 'h': 18, 'u': 19, 'r': 20, 'y': 21, '.': 22, 'n': 23, 'o': 24}\n"
          ]
        }
      ]
    },
    {
      "cell_type": "code",
      "source": [
        "dic_size = len(char_dic)"
      ],
      "metadata": {
        "id": "HtE69gsplRLc"
      },
      "execution_count": 8,
      "outputs": []
    },
    {
      "cell_type": "code",
      "source": [
        "hidden_size = dic_size\n",
        "sequence_length = 10\n",
        "learning_rate = 0.1"
      ],
      "metadata": {
        "id": "HXqsstUglbuZ"
      },
      "execution_count": 9,
      "outputs": []
    },
    {
      "cell_type": "code",
      "source": [
        "x_data = []\n",
        "y_data = []\n",
        "\n",
        "for i in range(0, len(sentences) - sequence_length):\n",
        "  x_str = sentences[i:i+sequence_length]\n",
        "  y_str = sentences[i+1:i+sequence_length+1]\n",
        "\n",
        "  print(i, x_str, '->', y_str)\n",
        "\n",
        "  x_data.append([char_dic[c] for c in x_str])\n",
        "  y_data.append([char_dic[c] for c in y_str])"
      ],
      "metadata": {
        "id": "1M22j2mUmZ6k"
      },
      "execution_count": null,
      "outputs": []
    },
    {
      "cell_type": "code",
      "source": [
        "print(x_data[0])\n",
        "print(y_data[0])"
      ],
      "metadata": {
        "colab": {
          "base_uri": "https://localhost:8080/"
        },
        "id": "1Pfb89wioBTJ",
        "outputId": "9151b964-ff40-4847-8312-2ad641a1bd89"
      },
      "execution_count": 12,
      "outputs": [
        {
          "output_type": "stream",
          "name": "stdout",
          "text": [
            "[1, 7, 9, 21, 24, 19, 9, 16, 10, 23]\n",
            "[7, 9, 21, 24, 19, 9, 16, 10, 23, 2]\n"
          ]
        }
      ]
    },
    {
      "cell_type": "code",
      "source": [
        "x_one_hot = [np.eye(dic_size)[x] for x in x_data]\n",
        "X = torch.FloatTensor(x_one_hot)\n",
        "Y = torch.LongTensor(y_data)\n",
        "\n",
        "print(X.shape)\n",
        "print(Y.shape)"
      ],
      "metadata": {
        "colab": {
          "base_uri": "https://localhost:8080/"
        },
        "id": "gU0LgBBGooFa",
        "outputId": "5766913b-572f-48d1-f242-55b7c6121ee3"
      },
      "execution_count": 17,
      "outputs": [
        {
          "output_type": "stream",
          "name": "stdout",
          "text": [
            "torch.Size([170, 10, 25])\n",
            "torch.Size([170, 10])\n"
          ]
        }
      ]
    },
    {
      "cell_type": "code",
      "source": [
        "print(X[0])"
      ],
      "metadata": {
        "id": "QWq_w0tRqIB-"
      },
      "execution_count": null,
      "outputs": []
    },
    {
      "cell_type": "code",
      "source": [
        "class Net(torch.nn.Module):\n",
        "  def __init__(self, input_dim, hidden_dim, layers):\n",
        "    super(Net, self).__init__()\n",
        "    self.rnn = nn.RNN(input_dim, hidden_dim, num_layers=layers, batch_first=True)\n",
        "    self.fc = nn.Linear(hidden_dim, hidden_dim,bias=True)\n",
        "  \n",
        "  def forward(self, x):\n",
        "    x, _status = self.rnn(x)\n",
        "    x = self.fc(x)\n",
        "    return x"
      ],
      "metadata": {
        "id": "3sUzgWAjqlD6"
      },
      "execution_count": 22,
      "outputs": []
    },
    {
      "cell_type": "code",
      "source": [
        "net = Net(dic_size, hidden_size, 2)  # 층이 2개"
      ],
      "metadata": {
        "id": "pGE9JdDDrtoK"
      },
      "execution_count": 23,
      "outputs": []
    },
    {
      "cell_type": "code",
      "source": [
        "criterion = nn.CrossEntropyLoss()\n",
        "optimizer = optim.Adam(net.parameters(), learning_rate)"
      ],
      "metadata": {
        "id": "0lEkKyeXsPAI"
      },
      "execution_count": 24,
      "outputs": []
    },
    {
      "cell_type": "code",
      "source": [
        "outputs = net(X)\n",
        "print(outputs.shape)"
      ],
      "metadata": {
        "colab": {
          "base_uri": "https://localhost:8080/"
        },
        "id": "8UXjuWxetCtS",
        "outputId": "7cf266f2-95e0-4914-90e7-44632d6d0fcd"
      },
      "execution_count": 25,
      "outputs": [
        {
          "output_type": "stream",
          "name": "stdout",
          "text": [
            "torch.Size([170, 10, 25])\n"
          ]
        }
      ]
    },
    {
      "cell_type": "code",
      "source": [
        "print(outputs.view(-1, dic_size).shape)"
      ],
      "metadata": {
        "colab": {
          "base_uri": "https://localhost:8080/"
        },
        "id": "Xk4brGLWtoyM",
        "outputId": "3d61d048-1c57-4311-c86f-9569e48aea9e"
      },
      "execution_count": 26,
      "outputs": [
        {
          "output_type": "stream",
          "name": "stdout",
          "text": [
            "torch.Size([1700, 25])\n"
          ]
        }
      ]
    },
    {
      "cell_type": "code",
      "source": [
        "print(Y.shape)\n",
        "print(Y.view(-1).shape)"
      ],
      "metadata": {
        "colab": {
          "base_uri": "https://localhost:8080/"
        },
        "id": "jsO5jqwHtyUr",
        "outputId": "34e39f3a-4fd1-4302-80a0-5654b865d430"
      },
      "execution_count": 27,
      "outputs": [
        {
          "output_type": "stream",
          "name": "stdout",
          "text": [
            "torch.Size([170, 10])\n",
            "torch.Size([1700])\n"
          ]
        }
      ]
    },
    {
      "cell_type": "code",
      "source": [
        "for i in range(100):\n",
        "  optimizer.zero_grad()\n",
        "  outputs = net(X)\n",
        "  loss = criterion(outputs.view(-1, dic_size), Y.view(-1))\n",
        "  loss.backward()\n",
        "  optimizer.step()\n",
        "\n",
        "  # result.shape = [170, 10]\n",
        "  results = outputs.argmax(dim=2)\n",
        "  predict_str = \"\"\n",
        "  for j, result in enumerate(results):\n",
        "    if j == 0:\n",
        "      predict_str += ''.join([char_set[t] for t in result])\n",
        "    else:\n",
        "      predict_str += char_set[result[-1]]\n",
        "  print(predict_str)"
      ],
      "metadata": {
        "colab": {
          "base_uri": "https://localhost:8080/"
        },
        "id": "yP0IxHHruDjj",
        "outputId": "84582a59-31b7-45e5-fa43-3ad9704d6572"
      },
      "execution_count": 29,
      "outputs": [
        {
          "output_type": "stream",
          "name": "stdout",
          "text": [
            "korrroorkkrrrrrroororkrorroooorkorrorooroororooorrrrrrrrrrrrrrooorrorrrroorkkoroooorrkrrrokrrrrrrrrrrrrkkorroororroorkrrrrrrrrkorrrrrrrrrrrrkrroorrrrrrrkorrrrrroorkrrrrrroorrrrrrk\n",
            " mmo m mm mmmmo m m m m  mmmm m mmt mo m om   o mmmmm mt mommommo mmmoo  mm mmm m mmt m  m mm  mommo mommmmo m mo m mmmmo mommmm  m  mo mo  mmmo m m  m mmmo   mmm  mmmmo mom  mo m\n",
            "t e   e e             e                      e                                  e t   e e          e              e   e e          e                      e e                  e   \n",
            "t ecy s .cy ycc  ccytry aryry yry yry acyyy yycyrr r y  rc rycy rcy rycyr tccrt yca yca acyyrccr ycy  ycy  ccct ycy tryry aryyyy  cyrrccyc rycy cct ycy yryrcyc cca cry ycycyrcy  c\n",
            "t t s t s t             t   t     t s t s    s s                  s               t   t t s        s    t         s   s s t   s    s          t         t s       t       t t      \n",
            "  e   t    ee ee    ee        e e      e e  e   e e  ee   e   ee   e e   e    e     o      eee  e e eeo     e e o t   t    e  ueeo      t ee e ee e oe     e  e  et e    e e ee    \n",
            "l e   e  u eo oe    oe         t     o   o      o o       e oo  oo o       o  e     oo o   o oo e o    o    ooe o  o   o     o  eo     o     e o  e e  e   o    o    e     e o  e  \n",
            "l n   o m   o       mo        i r      o o      m    o         o   m      r   o     n    o m i    o oor       o n   r        o io     r r oo o o         o   p      r      n o   mo\n",
            "            o   m   m                  o o      m   n  m              o             m        n    o no          n   r        n n           n o    m        o               n     mo\n",
            "     e   t                                      n             t      t            e b        n  n             e n       e     tn                  n e e                 t     t    \n",
            " t   e   tt             t   t                        t       tt      t  ttt       t              tt           t n t     t  t  t    t         t   tn t t   t  t   tt  t  t     t    \n",
            " t   t   tt         t t t t t d d      n    n        t t    ttt tt   t  ttt   t d t   t t       d t n t       t d t t d t  t  t tt e  d dt  t       tnt   t  te d t  t  t  t  te   \n",
            " to  t  t    n  n i t e e i t d e d ntontod n o   od i t    ettntei di  ett d ton t     e  d dn n t e to  d d i d t t d t  t t  it ed d dt nt   n n tnt   t   e d t dei t  tod eid \n",
            " to  to tetnon en i ios e ioiod iod i os  n i   d an t t  s ett  itoneon etoo ton iodo neo noeootet totod doo iodoi t t t otonet tot  doe enttn ionototn otoots i t dot eootoeseod \n",
            " t   a  tod ont n n n sss i i d sod niona t  n od on s to s saonas  n on osos aon ao o n   a so ioi toao  dos i toi t t t ototaona s  tosaonasn nonoaoan oaosis n a do  s  aos so  \n",
            " t   a  t eno   n n a   s i tod d d d on  n   ton  nt  t  to  e  t   eo  ot   e n e  o n       ot t t t   do  t tot t t t  tont  t t   o  o  en  onoe tn  e ot  n e do  e  tos e   \n",
            " t   e  t  t  tot   a   e n i   t dontone te n ot  te     n  to      eon oi   eon e t      t    t n i e   to  t t t t t d  to   n     t  ton on non t t   t   n n e     e  t d  o  \n",
            " t   e  to to tot n t toe n t   t do ton   e  totto    e ono te      e   ot   ton e  t   i t d  t n i en  to  t t t t t t  to to t t  e  ton en ton tot   t     n t e   e  toe no  \n",
            " too en t  to totln t t e n t   t to tot  te  e tto on enono to   t  to  otno ton e to   n t e  ton t en  to lt t t t t t  to t ntot  to  on en  ot tot n t oot t t tnt t  tod  o n\n",
            " tto tt t oto tot nlt t e n t   t ao tott tt  to to  s enoto  e  et  to  otno tonke  t   i a s  toi to n  to lt tkt t t t  to to tot  to  o  en  ot toe   t oot t tot n t  tos  ost\n",
            " dto te teoto  ot  la toe s t   t a etoito to to t      n tos  o  ti to   tto torkeoeto os s sn tot so t  to  t akt t tlto to teo  e  to  o  et i t e t o  tott   t eo he otos ehs \n",
            " dto  s te toatot   ats s a t n a ah ton  ie   o to    en t aco   tn eo  otm  toa'e it t i a sn ioits  n  nos t a e t a s  to testoe  toacon en n n ene   en  e  ht en  tn tos ehat\n",
            " dto ts t  io  ot d ane e t e a e t   ob   e    at     efdtoa    ets to   to  toa'e e o  toa sn not s en  nos , b e t a s  to tesaoen tos o 'en n b entoe dn te i t enn e  ,os e s \n",
            " dto t  te io  ot d tme e t e t t t  tobo aeo eo to ts tfdto      n  to   t   tor'eoemo  totosf aotts tno no  , b e t t e  to te aoeo to  o  en   t e toe  t te   t enr eo toa e d \n",
            " dto ts te t   ot d tnt e t e t t t  toto ae  e pto tr ef to c    tt to   to  tor'eoemo  t tosn totts tno n   t t e t t tm to testoen to  or'en   t entne  n teo  t en 'e  toa e  c\n",
            "  t  eteie t  pot   tntmt t e t t t  t to te  e pto en en tonc    tt to   tn  tor't en s t tosn totos en  t r t t e t t tn tostotnoem to con'en   t eneni en  to  tten  en t tnemat\n",
            "  to ttese so pot   tnt t t e n t t  p te peo eosto tthen to c    tt to  otn  ton'toet i t tosf toths eno po  t t e t t tn tontesnhe  to con en n t eneni et  to ltt n  e  totnef c\n",
            "  to tte eoso pot   tft i n e n t t  p teopeo eosto tthen to co   c  to  otn  tor'toenos t sos  toths ene so  t tht t t st todtosnhi  to co 'en   t e e    c  eo lt e   eo totms  c\n",
            "  to ts    to cot d t toe e e n t t  c tl ceo lonco ct tn to ch   cnoto  oto  to 'n dles t tosnotoihi en  no  t t t t d e  todtoephe  to co  eno  t entoe  td to  tti dheo totle ss\n",
            "  c   eonk to cot   t t e t e n t t  c tn ceo eonco  nh n to ch   in to   to  ton'n dpen t tosn totht ene no  , b n t b en toncesnher to con' non t ent e  td e   ts  n eo tht e sn\n",
            "  coi eonh n  cot n tnssi e e n n t nn eo seoneonto  nhen toncon  n  ton  nn  tor't ensi t brer toths ens tor , b n t b ir tosto nhir eo con'etonot ere n  ss to  et  t to t t e ts\n",
            "  co  toth po cot t tnt i t e   t t  t tf seo eonto ether toncor  ts tor otnd tor't ens  t toem tothtoend tor , b t t ther to todther to bor'etonot ereot  ssitom ete d to toa eots\n",
            "  to  tot oto bot , t toi t a   t t  c tn ceo topto  t en to co   t otoo otns t r't dnsi t toemototss end noo t d t t them to tidnheo toobo  enon t emtod et  tog tti   to toemesot\n",
            "  to  top'ieo cot , tntoi , a   t d  c tn ceo e nco  then th co   tsoto   tnd ton', dndslt'toenhtosht end too t d t t then toncienher to con enon thentod ettsto  ttil  to toemes s\n",
            "  to  eonh eo co, d tntoi , a n ,hd  n tnopeo e nto  nher toncon  ndotor ltnd ton', dndsl,'doen tonht end tor , b t t ther tonciinher to con'econ toentoi esd e   tgiln to toeresns\n",
            "  to  eonh to co,ku tntoi , a n thdh n tnopeo e nto  nher to con  nd to   tsd ton't dndsl, dhe  toshs end ton , b t t nher tonco ther to con'eco  t ertn'  stseo  tdiln to th mes s\n",
            "  to  tonk to ehnku tntmi , t n ,ha  s tnopeo l  to  nher to bo   ndhtor ltsd ton't dndsgt aoem tosks end ton , b t t nher tonco nher to bon eco  t e tnd ettsto  tdil  to thertsos\n",
            "  to  tosk to phtkd tntse , t n t d  s tnopeo lopto  them to bo   tshtor ltsd ton't andsgn toer tosks end tor , b t t sher tonco ther to bon eco  t e tnd essheo  tdil  to thertsis\n",
            "  to seost to chskd tnsse , aon t t  s tnopeo topto  them to co  etshtoo ltsd ton't anssgnkther tosks end to k, b t t ther tontoenher to con eco  t e tns essst  ltdil  to thertsic\n",
            "  to  eost to boi d bnsse , ton t t  t anopeopl pto ethereto co  etshto  ltnd ton't dsoign'ther toski end to  , b t t ther tontoenher to to  eco  t e tns etssto ltdil  eo toettoic\n",
            "  to  eost to boi d b she , ton t d  t bn peo l  to enher to co  ets to  ltnd ton't dn sgn'ther toski end tor , b t a bher tonto sher t  lo   co  toeptnd etstsk lndil  en toe toic\n",
            "  to  tont to cun d tnshe , t n'thb   ldn peo l pto enher th co  ets tor ltnd ton't dndsgs ther toski end tor t b t t nher tontoesher to lorg for thepend etsdt  ltdilr en themenac\n",
            "  to  tont to cun d apshe , t n'thd  tldn peopl pto enher to co  ets do   tnd don't dndsgn them toskihend dor , b t t nher tontoesher torlor' con toe end etsdtm ltdigr er themeoas\n",
            "  to  tont to bui d apske , t n't d  teap peonlepto lnher to co  ets wor  tfd won't dsdsgn them toskihend wor , b t t nhem tonto shem to bon' cor toemend ecsssm ltdil eer themeoas\n",
            "  tor tont to buikd apshe , don'tod   lap peopl pto ether to co  ecs wor  tnd ton't dsdsgn them tonks and tork, b t tanher tonto sher to bong cor toemend ecs st en ilr ef themeoas\n",
            "  tor tont to build anshi , b n'tha  tlapopeopllpto ether to bo  ecs tor  tod ton't apstgngthem tonks afdltorlt b t tather thncoesher to bong fo  them nd ecs ct lndily ef thereoas\n",
            "  tor tont to build anshi , bon'thao tlanopeoplopto ether th co  ecs tor  tsd ton't a ssgigther tonks and torlt b t tather thnco sher to bon' for the end ecs tt l dily ef thereoss\n",
            "  tor tontyto boikd anshi , d n'thdo t bnopeo eopto ether th co  ess tor  tnd ton't dssign the  tosks and dorkt b t tather toacoeshe  to bon efor toe end ess it ensi y ef the eoss\n",
            "  tor tontyto boikd anship, d n'thd  m bnopeopeepto ether th co  ecs tor  and don't dssign the  tonks and tork, b t tather thacoether to lon  for the end essipt ensily on the eoas\n",
            "  tor tontyto tuikd anship, d n't a  t unopeopeepto esher to co  ecs eor  ,nd don't dsssgn them tosks and work, bht aather toaco the  to bon efor the endlessiit lndily of the eoss\n",
            "  wo  wont to build anship, d n't d  i upopeopeepto ether to co  ecs wor  and won't dpsign them tosks and workt but tather toach the  to bonlefo  themendlessiit lndily of the eoss\n",
            "g tor wont wo build anship, don't d  i dp peopeento ether to co lecs wor land won't dpssgn them tonks andlwork, but aather topch ther to bonlefo  themendlecsiim ensily of the eosc\n",
            "g wor wont wo buildlanship, bon't do i dp peopeento ether to co  ecs wor  and won't dnsign the  tonks and work, but aather topco thir to bonlefor the endlecsiit ensigy of toemeosc\n",
            "g wo  wont to bui d anship, don't d gi dp peopeento enher to co  ecs wo   and won't dnsign the  tosks and work, but aather topchether to bongefor the end essiim ensigy of toemeosc\n",
            "g to  wont to bui d asship, don't aogi up people together to co  ecs tor  and don't ansign them tosks and dork, b t aather toach ther to bongefor themend essiim endity of themeosc\n",
            "g to  wont to build anship, don't do   ap people together to co lecs tor  and don't ansign them tosks and work, but rathem toaco them to bongefor themendlesshimdendity of themeoss\n",
            "g do  wont to build a ship, don't a gi up peo le to ether to co lecs wo   apd won't ansign them tosks and work, but rather to ch the  to bongefor themend ess imdensity of themeesp\n",
            "glto  wont to build anship, don't a gi up peo le together to co lect wordlasd won't ansign them t sks andlwork, but rather thach the  to longefor themendless im ensity of themeess\n",
            "glto  wont to build anihip, don't ar i up peo le to ether to co lect tordland won't ansign them tosks andlwork, but rather toach the  to lon efor the endless im ensity of themeeop\n",
            "gltor wont to build a ship, don't ar i up peo le to ether to co lect word and won't ansign them tosks and work, but rather toach the  to lon  for the endless im ensity of the eeas\n",
            "gldor want to build a ship, don't ar m up peo le together to co lect wordland won't apsign them tosks and work, but rather toach the  to long for the endless immlnsity of the eess\n",
            "g do  want to build a ship, don't ar m up people together to co lect word apd won't apsign them tosks and work, but rather toach the  to bong for the endless immensity of the eess\n",
            "gldor want to luild a ship, don't a gm up people together to collect wordlapd won't ansign them tosks'afd work, but rather toach the  to long for themendless immensity of themeeas\n",
            "gldor want to build a shep, don't a u  up people together to colleco wordland won't unsign the  tosks asd dork, but rather toachethe  to bong for the endless im ensity of the eeas\n",
            "gldor want to build a ship, don't a ue up people together to co lect wordland don't uniign them tosks ans dork, but rather toach the  to long for the endless immensity of t e eeai\n",
            "gldor want to build a ship, don't a up up peopleptogether to co lect word apd won't a iign them tosks and work, but rather toach the  to long for themendless immensity of the eeai\n",
            "gldo  want to build a ship, don't a up up people together to co lect wo d apd won't a sign the  tosks and work, but rather toach the  to long for the endless immentity of the eeap\n",
            "glwo  want to build asship, don't arue up people together to collect word and won't a sign the  tosks and work, but rather toach the  to long for the endless immentity of the eeap\n",
            "glwo  want to build a ship, don't arum up people together to collect word and won't acsign them tosks and work, but rather toach them to long for the endless immensity of the eeap\n",
            "glwo  want to build a ship, don't arum up people together to co lect wood and won't acsign the  tosks and work, but rather toach the  to long for the endless immensity of the eeai\n",
            "gldou want to build a ship, don't arum up people together to collect word and won't a sign the  tosks and work, but rather toach the  to long for the sndless immensity of the eeai\n",
            "gldou want to build ahship, don't arum up people together to collect word and won't dnsign the  tosks and work, but rather toach the  to long for the sndless immensity of the eeap\n",
            "gldou want to build ahship, don't arum up people together to collect tood and won't ansign the  tosks and wook, but rather toach the  to bong for the endlesshimmensity of the eeai\n",
            "lldou want to build a ship, don't arum up people together to collect word and won't acsign them tosks and work, but rather toach the  to long for the endless immensity of the eeap\n",
            "lldou want to build a ship, don't arum up people together to collect word and won't acsign them tosks and work, but rather toach them to long for themendless immensity of the eeap\n",
            "lldou want to build a ship, don't arum up people together to co lect word and won't acsign them tosks and work, but rather toach them to long for themendless immensity of the eeap\n",
            "lltou want to build a ship, don't arum up people together to collect word and won't acsign them tosks and work, but rather toach them to long for themendless immensity of the seap\n",
            "lltou want to build a ship, don't arum up people together to collect word and won't acsign them tosks and work, but rather toach them to long for the endless immensity of the eeap\n",
            "l tou want to build a ship, don't arum up people together to collect wood and won't acsign them tosks and wook, but rather toach them to long for the endless immensity of the eeap\n",
            "lltou want to build a ship, don't arum up people together to collect wood and won't acsign them tosks and work, but rather toach them to long for themendless immensity of the eeap\n",
            "gltor want to build a ship, don't arum up people together to collect wood and won't assign the  tasks and work, but rather toach them to long for the endless immensity of the eeap\n",
            "gltou want to build a ship, don't arum up people together to collect wood and don't assign them tasks and work, but rather toach them to long for themendless immensity of the seap\n",
            "ldtou want to build a ship, don't arum up people together to collect wood and don't assign them tasks and work, but rather toach them to long for themendless immensity of the seap\n",
            "g tou want to build a ship, don't arum up people together to collect wood and won't assign the  tasks and work, but rather toach them to long for the sndless immensity of the seai\n",
            "g tou want to build a ship, don't arum up people together to collect wood and won't acsign them tosks and work, but rather toach them to long for the sndless immensity of the seai\n",
            "l tou want to build a ship, don't arum up people together to collect wood and won't assign them tosks and work, but rather toach them to long for the sndless immensity of the seai\n",
            "l ro  want to build a ship, don't arum up people together to collect wood and won't assign them tasks and work, but rather toach them to long for the endless immensity of the eeai\n",
            "l tou want to build a ship, don't drum up people together to collect wood and don't assign them tasks and work, but rather toach them to long for the endless immensity of the seai\n",
            "l tou want to build a ship, don't arum up people together to collect wood and don't assign them tasks and work, but rather toach them to long for themendless immensity of the sea.\n",
            "l uou want to build a ship, don't arum up people together to collect wood and don't assign them tasks and dork, but rather teach them to long for the endless immensity of the sea.\n",
            "g uou want to build a ship, don't arum up people together to collect wood and don't assign them tasks and work, but rather teach them to long for the endless immensity of the sea.\n",
            "g tou want to build a ship, don't arum up people together to collect wood and won't assign them tosks and work, but rather teach them to long for themendless immensity of the eea.\n",
            "g tou want to build a ship, don't arum up people together to collect wood and don't assign the  tasks and work, but rather teach the  to long for the sndless immensity of the seai\n",
            "l uou want to build a ship, don't arum up people together to collect wood and don't assign them tasks and work, but rather teach them to long for themendless immensity of the eea.\n",
            "m uou want to build a ship, don't arum up people together to collect wood and don't assign them tosks and work, but rather teach them to long for themendless immensity of themeea.\n",
            "l uou want to build a ship, don't arum up people together to collect wood and don't assign the  tasks and work, but rather teach them ta long for the endless immensity of the eea.\n",
            "l uou want to build a ship, don't drum up people together to collect wood and won't assign the  tasks and work, but rather toach them to long for the endless immensity of the eeai\n",
            "l tou want to build a ship, don't drum up people together to collect wood and don't assign them tosks and work, but rather toach them to long for the endless immensity of the seai\n",
            "l tou want to build a ship, don't arum up people together to collect wood and don't assign them tasks and work, but rather toach them to long for the sndless immensity of the sea \n",
            "l uou want to build a ship, don't arum up people together to collect wood and won't assign them tasks and work, but rather teach them to long for the endless immensity of the eea.\n"
          ]
        }
      ]
    }
  ]
}