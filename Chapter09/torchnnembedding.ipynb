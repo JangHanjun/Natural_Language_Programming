{
  "nbformat": 4,
  "nbformat_minor": 0,
  "metadata": {
    "colab": {
      "name": "Untitled0.ipynb",
      "provenance": [],
      "authorship_tag": "ABX9TyPh+f+mlgCXdBNOqO7PGXF0",
      "include_colab_link": true
    },
    "kernelspec": {
      "name": "python3",
      "display_name": "Python 3"
    },
    "language_info": {
      "name": "python"
    }
  },
  "cells": [
    {
      "cell_type": "markdown",
      "metadata": {
        "id": "view-in-github",
        "colab_type": "text"
      },
      "source": [
        "<a href=\"https://colab.research.google.com/github/JangHanjun/Natural_Language_Programming/blob/main/Chapter09/torchnnembedding.ipynb\" target=\"_parent\"><img src=\"https://colab.research.google.com/assets/colab-badge.svg\" alt=\"Open In Colab\"/></a>"
      ]
    },
    {
      "cell_type": "code",
      "source": [
        "train_data = 'you need to know how to code'\n",
        "\n",
        "word_set = set(train_data.split())\n",
        "\n",
        "vocab = {word: i+2 for i, word in enumerate(word_set)}\n",
        "vocab['<unk>'] = 0\n",
        "vocab['<pad>'] = 1\n",
        "print(vocab)"
      ],
      "metadata": {
        "colab": {
          "base_uri": "https://localhost:8080/"
        },
        "id": "jWLq83ZafSpL",
        "outputId": "51d56792-0a4e-469f-b737-285b2b31b080"
      },
      "execution_count": 5,
      "outputs": [
        {
          "output_type": "stream",
          "name": "stdout",
          "text": [
            "{'you': 2, 'how': 3, 'to': 4, 'need': 5, 'know': 6, 'code': 7, '<unk>': 0, '<pad>': 1}\n"
          ]
        }
      ]
    },
    {
      "cell_type": "code",
      "source": [
        "import torch\n",
        "import torch.nn as nn\n",
        "\n",
        "embedding_layer = nn.Embedding(num_embeddings=len(vocab),\n",
        "                               embedding_dim=3,\n",
        "                               padding_idx=1)"
      ],
      "metadata": {
        "id": "NU75xCSIifYL"
      },
      "execution_count": 10,
      "outputs": []
    },
    {
      "cell_type": "code",
      "source": [
        "print(embedding_layer)\n",
        "print(embedding_layer.weight)"
      ],
      "metadata": {
        "colab": {
          "base_uri": "https://localhost:8080/"
        },
        "id": "89r6jWuvifdG",
        "outputId": "29fae590-e841-4e66-c7f9-34888d7001fe"
      },
      "execution_count": 12,
      "outputs": [
        {
          "output_type": "stream",
          "name": "stdout",
          "text": [
            "Embedding(8, 3, padding_idx=1)\n",
            "Parameter containing:\n",
            "tensor([[ 0.9931, -1.1089,  1.0841],\n",
            "        [ 0.0000,  0.0000,  0.0000],\n",
            "        [ 0.4645,  0.6749, -0.2566],\n",
            "        [-0.2227,  0.5122, -0.4163],\n",
            "        [-0.6134, -0.9176, -1.0617],\n",
            "        [-0.5781,  2.1990, -1.7310],\n",
            "        [-0.2840,  1.0185, -1.5840],\n",
            "        [ 1.4699, -1.1647,  1.0142]], requires_grad=True)\n"
          ]
        }
      ]
    }
  ]
}