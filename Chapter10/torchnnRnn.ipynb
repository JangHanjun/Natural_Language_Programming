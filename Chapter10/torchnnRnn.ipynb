{
  "nbformat": 4,
  "nbformat_minor": 0,
  "metadata": {
    "colab": {
      "name": "torchnnRnn.ipynb",
      "provenance": [],
      "authorship_tag": "ABX9TyMChiiLuxyA8u6ZPVE0bYB3",
      "include_colab_link": true
    },
    "kernelspec": {
      "name": "python3",
      "display_name": "Python 3"
    },
    "language_info": {
      "name": "python"
    }
  },
  "cells": [
    {
      "cell_type": "markdown",
      "metadata": {
        "id": "view-in-github",
        "colab_type": "text"
      },
      "source": [
        "<a href=\"https://colab.research.google.com/github/JangHanjun/Natural_Language_Programming/blob/main/Chapter10/torchnnRnn.ipynb\" target=\"_parent\"><img src=\"https://colab.research.google.com/assets/colab-badge.svg\" alt=\"Open In Colab\"/></a>"
      ]
    },
    {
      "cell_type": "code",
      "execution_count": 1,
      "metadata": {
        "id": "blGf60Sa3wrf"
      },
      "outputs": [],
      "source": [
        "import torch\n",
        "import torch.nn as nn\n",
        "\n",
        "input_size = 5  # 입력 크기\n",
        "hidden_size = 8 # 은닉 상태의 크기"
      ]
    },
    {
      "cell_type": "code",
      "source": [
        "inputs = torch.Tensor(1, 10, 5)"
      ],
      "metadata": {
        "id": "gBZz6tBE4src"
      },
      "execution_count": 2,
      "outputs": []
    },
    {
      "cell_type": "code",
      "source": [
        "cell = nn.RNN(input_size, hidden_size, batch_first=True)"
      ],
      "metadata": {
        "id": "tJ2PN0op5Dml"
      },
      "execution_count": 3,
      "outputs": []
    },
    {
      "cell_type": "code",
      "source": [
        "outputs, _status = cell(inputs)\n",
        "print(outputs.shape)\n",
        "print(_status.shape)"
      ],
      "metadata": {
        "colab": {
          "base_uri": "https://localhost:8080/"
        },
        "id": "aQ2N9XtS5VDm",
        "outputId": "cf5df13b-8655-4be0-d21a-f7e9abf6c92a"
      },
      "execution_count": 5,
      "outputs": [
        {
          "output_type": "stream",
          "name": "stdout",
          "text": [
            "torch.Size([1, 10, 8])\n",
            "torch.Size([1, 1, 8])\n"
          ]
        }
      ]
    }
  ]
}