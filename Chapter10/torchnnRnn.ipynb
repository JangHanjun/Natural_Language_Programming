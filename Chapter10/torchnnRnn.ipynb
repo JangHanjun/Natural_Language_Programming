{
  "nbformat": 4,
  "nbformat_minor": 0,
  "metadata": {
    "colab": {
      "name": "torchnnRnn.ipynb",
      "provenance": [],
      "authorship_tag": "ABX9TyMUMS7EQCS50NpkfNCX+9nZ",
      "include_colab_link": true
    },
    "kernelspec": {
      "name": "python3",
      "display_name": "Python 3"
    },
    "language_info": {
      "name": "python"
    }
  },
  "cells": [
    {
      "cell_type": "markdown",
      "metadata": {
        "id": "view-in-github",
        "colab_type": "text"
      },
      "source": [
        "<a href=\"https://colab.research.google.com/github/JangHanjun/Natural_Language_Programming/blob/main/Chapter10/torchnnRnn.ipynb\" target=\"_parent\"><img src=\"https://colab.research.google.com/assets/colab-badge.svg\" alt=\"Open In Colab\"/></a>"
      ]
    },
    {
      "cell_type": "code",
      "execution_count": null,
      "metadata": {
        "id": "blGf60Sa3wrf"
      },
      "outputs": [],
      "source": [
        "import torch\n",
        "import torch.nn as nn\n",
        "\n",
        "input_size = 5  # 입력 크기\n",
        "hidden_size = 8 # 은닉 상태의 크기"
      ]
    },
    {
      "cell_type": "code",
      "source": [
        "inputs = torch.Tensor(1, 10, 5)"
      ],
      "metadata": {
        "id": "gBZz6tBE4src"
      },
      "execution_count": null,
      "outputs": []
    },
    {
      "cell_type": "code",
      "source": [
        "cell = nn.RNN(input_size, hidden_size, batch_first=True)\n",
        "cell2 = nn.RNN(input_size=5, hidden_size=8, num_layers=2, batch_first=True)"
      ],
      "metadata": {
        "id": "tJ2PN0op5Dml"
      },
      "execution_count": 7,
      "outputs": []
    },
    {
      "cell_type": "code",
      "source": [
        "outputs, _status = cell(inputs)\n",
        "print(outputs.shape)\n",
        "print(_status.shape)\n",
        "\n",
        "\n",
        "outputs2, _status2 = cell2(inputs)\n",
        "print(outputs2.shape)\n",
        "print(_status2.shape)"
      ],
      "metadata": {
        "colab": {
          "base_uri": "https://localhost:8080/"
        },
        "id": "aQ2N9XtS5VDm",
        "outputId": "7a96e325-777a-45cd-e0b1-916c629d8237"
      },
      "execution_count": 8,
      "outputs": [
        {
          "output_type": "stream",
          "name": "stdout",
          "text": [
            "torch.Size([1, 10, 8])\n",
            "torch.Size([1, 1, 8])\n",
            "torch.Size([1, 10, 8])\n",
            "torch.Size([2, 1, 8])\n"
          ]
        }
      ]
    },
    {
      "cell_type": "code",
      "source": [
        "inputs_bi = torch.Tensor(1, 10, 5) # (batch_size, time_steps, input_size)\n",
        "\n",
        "cell_bi = nn.RNN(input_size = 5, hidden_size = 8, num_layers=2, batch_first=True, bidirectional=True)\n",
        "\n",
        "outputs, _status = cell_bi(inputs)\n",
        "print(outputs.shape)\n",
        "print(_status.shape)"
      ],
      "metadata": {
        "colab": {
          "base_uri": "https://localhost:8080/"
        },
        "id": "DWEQnSht-VyR",
        "outputId": "a26be7db-d0c7-4d08-c185-2d63508f64ff"
      },
      "execution_count": 9,
      "outputs": [
        {
          "output_type": "stream",
          "name": "stdout",
          "text": [
            "torch.Size([1, 10, 16])\n",
            "torch.Size([4, 1, 8])\n"
          ]
        }
      ]
    }
  ]
}