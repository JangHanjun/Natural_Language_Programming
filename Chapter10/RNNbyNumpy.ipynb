{
  "nbformat": 4,
  "nbformat_minor": 0,
  "metadata": {
    "colab": {
      "name": "RNNbyNumpy.ipynb",
      "provenance": [],
      "authorship_tag": "ABX9TyNcuTovxwA9T8PvPlVRKQOj",
      "include_colab_link": true
    },
    "kernelspec": {
      "name": "python3",
      "display_name": "Python 3"
    },
    "language_info": {
      "name": "python"
    }
  },
  "cells": [
    {
      "cell_type": "markdown",
      "metadata": {
        "id": "view-in-github",
        "colab_type": "text"
      },
      "source": [
        "<a href=\"https://colab.research.google.com/github/JangHanjun/Natural_Language_Programming/blob/main/Chapter10/RNNbyNumpy.ipynb\" target=\"_parent\"><img src=\"https://colab.research.google.com/assets/colab-badge.svg\" alt=\"Open In Colab\"/></a>"
      ]
    },
    {
      "cell_type": "code",
      "execution_count": 1,
      "metadata": {
        "id": "OPWBV3l5se_Z"
      },
      "outputs": [],
      "source": [
        "import numpy as np\n",
        "\n",
        "timesteps = 10    # 시점의 수, NLP 에서는 문장 길이\n",
        "input_size = 4    # 입력 타원, NLP 에서는 단어 벡터의 차원이 됨\n",
        "hidden_size = 8   # 은닉 상태 크기, 메모리 셀의 용량\n",
        "\n",
        "inputs = np.random.random((timesteps, input_size)) # 입력에 해당하는 2차원 텐서\n",
        "\n",
        "hidden_state_t = np.zeros((hidden_size, )) # 초기 은닉 상태는 0벡터로 초기화"
      ]
    },
    {
      "cell_type": "code",
      "source": [
        "Wx = np.random.random((hidden_size, input_size))    # (8,4) 크기의 2차원 텐서 생성, 입력에 대한 가중치\n",
        "Wh = np.random.random((hidden_size, hidden_size))   # (8,8) 크기의 2차원 텐서 생성, 은닉 상태에 대한 가중치\n",
        "b = np.random.random((hidden_size, ))               # (8,1) 크기의 1차원 텐서 생성"
      ],
      "metadata": {
        "id": "eLPs5E2q1sYQ"
      },
      "execution_count": 3,
      "outputs": []
    },
    {
      "cell_type": "code",
      "source": [
        "total_hidden_states = []\n",
        "\n",
        "# 메모리셀 동작\n",
        "for input_t in inputs:\n",
        "  # Wx*xt + Wh*ht-1 + b\n",
        "  output_t = np.tanh(np.dot(Wx, input_t) + np.dot(Wh, hidden_state_t) + b)\n",
        "\n",
        "  total_hidden_states.append(list(output_t)) # 각 시점 은닉 상태 값 축적\n",
        "  print(np.shape(total_hidden_states))       # 각 시점 t 별 메모리 셀 크기 출력\n",
        "\n",
        "  hidden_state_t = output_t\n",
        "\n",
        "total_hidden_states = np.stack(total_hidden_states, axis = 0) # 출력시 값을 깔끔하게\n",
        "\n",
        "print(total_hidden_states)"
      ],
      "metadata": {
        "colab": {
          "base_uri": "https://localhost:8080/"
        },
        "id": "hewJJh7g2kvW",
        "outputId": "ac7ec507-3a04-48ce-d600-0f4e572b5d3c"
      },
      "execution_count": 5,
      "outputs": [
        {
          "output_type": "stream",
          "name": "stdout",
          "text": [
            "(1, 8)\n",
            "(2, 8)\n",
            "(3, 8)\n",
            "(4, 8)\n",
            "(5, 8)\n",
            "(6, 8)\n",
            "(7, 8)\n",
            "(8, 8)\n",
            "(9, 8)\n",
            "(10, 8)\n",
            "[[0.99968109 0.9997197  0.99958376 0.99993585 0.99999628 0.99997854\n",
            "  0.99998366 0.99996062]\n",
            " [0.99960336 0.99971937 0.99977252 0.99997792 0.99999677 0.99999403\n",
            "  0.99999556 0.99997133]\n",
            " [0.99994614 0.99992216 0.99987531 0.9999748  0.99999807 0.99998821\n",
            "  0.99999572 0.99999369]\n",
            " [0.99982594 0.99983758 0.99984205 0.99997434 0.9999963  0.99999271\n",
            "  0.99999571 0.99998556]\n",
            " [0.99982265 0.99984009 0.99987501 0.99998081 0.99999738 0.99999482\n",
            "  0.99999771 0.99999068]\n",
            " [0.9999253  0.99990261 0.99988555 0.99997202 0.99999849 0.99998968\n",
            "  0.99999744 0.99999599]\n",
            " [0.99992402 0.99991887 0.99991762 0.99999116 0.99999485 0.99999689\n",
            "  0.99999717 0.9999856 ]\n",
            " [0.99991303 0.9998962  0.99985291 0.99997633 0.99999682 0.99999053\n",
            "  0.99999446 0.99998729]\n",
            " [0.9998287  0.999847   0.9998339  0.99998546 0.9999962  0.99999474\n",
            "  0.99999511 0.99997293]\n",
            " [0.99964141 0.99973504 0.99975844 0.99997569 0.99999632 0.99999311\n",
            "  0.99999431 0.99996736]]\n"
          ]
        }
      ]
    },
    {
      "cell_type": "code",
      "source": [
        ""
      ],
      "metadata": {
        "id": "q1JBEA8D3lHg"
      },
      "execution_count": null,
      "outputs": []
    }
  ]
}