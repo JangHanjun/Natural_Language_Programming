{
  "nbformat": 4,
  "nbformat_minor": 0,
  "metadata": {
    "colab": {
      "name": "KorTorchTextTutorial.ipynb",
      "provenance": [],
      "authorship_tag": "ABX9TyNPBL9oRmRuh1lHlWMAZr07",
      "include_colab_link": true
    },
    "kernelspec": {
      "name": "python3",
      "display_name": "Python 3"
    },
    "language_info": {
      "name": "python"
    }
  },
  "cells": [
    {
      "cell_type": "markdown",
      "metadata": {
        "id": "view-in-github",
        "colab_type": "text"
      },
      "source": [
        "<a href=\"https://colab.research.google.com/github/JangHanjun/Natural_Language_Programming/blob/main/Chapter08/KorTorchTextTutorial.ipynb\" target=\"_parent\"><img src=\"https://colab.research.google.com/assets/colab-badge.svg\" alt=\"Open In Colab\"/></a>"
      ]
    },
    {
      "cell_type": "code",
      "execution_count": null,
      "metadata": {
        "id": "nmWUCHIC8pcM"
      },
      "outputs": [],
      "source": [
        "!git clone https://github.com/SOMJANG/Mecab-ko-for-Google-Colab.git\n",
        "%cd Mecab-ko-for-Google-Colab\n",
        "!bash install_mecab-ko_on_colab190912.sh"
      ]
    },
    {
      "cell_type": "code",
      "source": [
        "import urllib.request\n",
        "import pandas as pd"
      ],
      "metadata": {
        "id": "_jsCltU7BCAi"
      },
      "execution_count": 2,
      "outputs": []
    },
    {
      "cell_type": "code",
      "source": [
        "urllib.request.urlretrieve(\"https://raw.githubusercontent.com/e9t/nsmc/master/ratings_train.txt\", filename=\"ratings_train.txt\")\n",
        "urllib.request.urlretrieve(\"https://raw.githubusercontent.com/e9t/nsmc/master/ratings_test.txt\", filename=\"ratings_test.txt\")"
      ],
      "metadata": {
        "colab": {
          "base_uri": "https://localhost:8080/"
        },
        "id": "T-gjCka3CidH",
        "outputId": "e3231970-16e8-424c-eb15-953e928cea19"
      },
      "execution_count": 3,
      "outputs": [
        {
          "output_type": "execute_result",
          "data": {
            "text/plain": [
              "('ratings_test.txt', <http.client.HTTPMessage at 0x7f712e34ff50>)"
            ]
          },
          "metadata": {},
          "execution_count": 3
        }
      ]
    },
    {
      "cell_type": "code",
      "source": [
        "train_df = pd.read_table('ratings_train.txt')\n",
        "test_df = pd.read_table('ratings_test.txt')"
      ],
      "metadata": {
        "id": "1K3MLtMfCmcZ"
      },
      "execution_count": 5,
      "outputs": []
    },
    {
      "cell_type": "code",
      "source": [
        "print(train_df.head())"
      ],
      "metadata": {
        "colab": {
          "base_uri": "https://localhost:8080/"
        },
        "id": "_MHukX2iDMvH",
        "outputId": "ac9d1eb8-06b8-48de-caea-53aa0333ffa0"
      },
      "execution_count": 7,
      "outputs": [
        {
          "output_type": "stream",
          "name": "stdout",
          "text": [
            "         id                                           document  label\n",
            "0   9976970                                아 더빙.. 진짜 짜증나네요 목소리      0\n",
            "1   3819312                  흠...포스터보고 초딩영화줄....오버연기조차 가볍지 않구나      1\n",
            "2  10265843                                  너무재밓었다그래서보는것을추천한다      0\n",
            "3   9045019                      교도소 이야기구먼 ..솔직히 재미는 없다..평점 조정      0\n",
            "4   6483659  사이몬페그의 익살스런 연기가 돋보였던 영화!스파이더맨에서 늙어보이기만 했던 커스틴 ...      1\n"
          ]
        }
      ]
    },
    {
      "cell_type": "code",
      "source": [
        "from torchtext.legacy import data\n",
        "from konlpy.tag import Mecab"
      ],
      "metadata": {
        "id": "a6BaOvSSDc12"
      },
      "execution_count": 11,
      "outputs": []
    },
    {
      "cell_type": "code",
      "source": [
        "tokenizer = Mecab()"
      ],
      "metadata": {
        "id": "eBZi02wkDu2b"
      },
      "execution_count": 9,
      "outputs": []
    },
    {
      "cell_type": "code",
      "source": [
        "ID = data.Field(sequential = False,\n",
        "                use_vocab = False)\n",
        "\n",
        "TEXT = data.Field(sequential = True,\n",
        "                  use_vocab = True,\n",
        "                  tokenize = tokenizer.morphs,\n",
        "                  lower = True,\n",
        "                  batch_first = True,\n",
        "                  fix_length = 20)\n",
        "LABEL = data.Field(sequential = False,\n",
        "                   use_vocab = False,\n",
        "                   is_target = True)"
      ],
      "metadata": {
        "id": "N7KKk_n1DyLd"
      },
      "execution_count": 12,
      "outputs": []
    },
    {
      "cell_type": "code",
      "source": [
        "from torchtext.legacy.data import TabularDataset"
      ],
      "metadata": {
        "id": "5tGak_EQEx4E"
      },
      "execution_count": 13,
      "outputs": []
    },
    {
      "cell_type": "code",
      "source": [
        "from dataclasses import fields\n",
        "train_data, test_data = TabularDataset.splits(\n",
        "    path = '.', train = 'ratings_train.txt', test = 'ratings_test.txt', format='tsv',\n",
        "    fields=[('id', ID), ('text', TEXT), ('label', LABEL)], skip_header=True)"
      ],
      "metadata": {
        "id": "offXZBx6E3hK"
      },
      "execution_count": 15,
      "outputs": []
    },
    {
      "cell_type": "code",
      "source": [
        "TEXT.build_vocab(train_data, min_freq = 10, max_size = 10000)"
      ],
      "metadata": {
        "id": "MFWdl8l7F3Iy"
      },
      "execution_count": 16,
      "outputs": []
    },
    {
      "cell_type": "code",
      "source": [
        "from torchtext.legacy.data import Iterator"
      ],
      "metadata": {
        "id": "i2eS27RfGF5L"
      },
      "execution_count": 17,
      "outputs": []
    },
    {
      "cell_type": "code",
      "source": [
        "batch_size = 5\n",
        "\n",
        "train_loader = Iterator(dataset=train_data, batch_size=batch_size)\n",
        "test_loader = Iterator(dataset=test_data, batch_size=batch_size)"
      ],
      "metadata": {
        "id": "P_Zk9BnLGSQp"
      },
      "execution_count": 18,
      "outputs": []
    },
    {
      "cell_type": "code",
      "source": [
        "batch = next(iter(train_loader))\n",
        "print(batch.text)"
      ],
      "metadata": {
        "colab": {
          "base_uri": "https://localhost:8080/"
        },
        "id": "bs4LzBdRGl0x",
        "outputId": "5ef342e2-94da-4b09-e25f-de028492f406"
      },
      "execution_count": 19,
      "outputs": [
        {
          "output_type": "stream",
          "name": "stdout",
          "text": [
            "tensor([[ 186,    2,    2, 2301,  112,  157, 1093, 2216,   13, 6103,   30,   16,\n",
            "          186,    3,    6,    2, 4691,   16, 1580,   10],\n",
            "        [ 313,  208,   12,    5,  116,  159,   49,   31,    2,   17,    1,    1,\n",
            "            1,    1,    1,    1,    1,    1,    1,    1],\n",
            "        [ 218,    4,  313,  347,   45,    9,  892,  290,    2,  453,    8,    7,\n",
            "          395,  133,   56,   30,   24, 6531,   28,    4],\n",
            "        [2742,   11, 3979,    9,  639,   34,   63,   19,  688,   34,   39, 2178,\n",
            "          170,   10,    5,    1,    1,    1,    1,    1],\n",
            "        [2149,  109,   13,   33,   31,  189,    0,    5,    4,    0,  141, 1261,\n",
            "            1,    1,    1,    1,    1,    1,    1,    1]])\n"
          ]
        }
      ]
    }
  ]
}