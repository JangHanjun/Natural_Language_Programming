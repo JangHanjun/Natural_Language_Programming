{
  "nbformat": 4,
  "nbformat_minor": 0,
  "metadata": {
    "colab": {
      "name": "Batch_First_Practice.ipynb",
      "provenance": [],
      "authorship_tag": "ABX9TyNaIreQnVambNI4SpHiF1NZ",
      "include_colab_link": true
    },
    "kernelspec": {
      "name": "python3",
      "display_name": "Python 3"
    },
    "language_info": {
      "name": "python"
    }
  },
  "cells": [
    {
      "cell_type": "markdown",
      "metadata": {
        "id": "view-in-github",
        "colab_type": "text"
      },
      "source": [
        "<a href=\"https://colab.research.google.com/github/JangHanjun/Natural_Language_Programming/blob/main/Chapter08/Batch_First_Practice.ipynb\" target=\"_parent\"><img src=\"https://colab.research.google.com/assets/colab-badge.svg\" alt=\"Open In Colab\"/></a>"
      ]
    },
    {
      "cell_type": "code",
      "execution_count": 3,
      "metadata": {
        "id": "hFzXTBa05x4X"
      },
      "outputs": [],
      "source": [
        "import urllib.request\n",
        "import pandas as pd"
      ]
    },
    {
      "cell_type": "code",
      "source": [
        "urllib.request.urlretrieve(\"https://raw.githubusercontent.com/LawrenceDuan/IMDb-Review-Analysis/master/IMDb_Reviews.csv\", filename=\"IMDb_Reviews.csv\")"
      ],
      "metadata": {
        "colab": {
          "base_uri": "https://localhost:8080/"
        },
        "id": "cLlFykeO7Fc-",
        "outputId": "8903240e-d8fa-4cf7-df57-603188aa1200"
      },
      "execution_count": 4,
      "outputs": [
        {
          "output_type": "execute_result",
          "data": {
            "text/plain": [
              "('IMDb_Reviews.csv', <http.client.HTTPMessage at 0x7efe15544750>)"
            ]
          },
          "metadata": {},
          "execution_count": 4
        }
      ]
    },
    {
      "cell_type": "code",
      "source": [
        "df = pd.read_csv('IMDb_Reviews.csv', encoding='latin1')\n",
        "print('전체 샘플의 개수 : {}'.format(len(df)))"
      ],
      "metadata": {
        "colab": {
          "base_uri": "https://localhost:8080/"
        },
        "id": "acgByUE97Obz",
        "outputId": "6059c5fc-eac1-477b-b5a4-6ac16855e68e"
      },
      "execution_count": 21,
      "outputs": [
        {
          "output_type": "stream",
          "name": "stdout",
          "text": [
            "전체 샘플의 개수 : 50000\n"
          ]
        }
      ]
    },
    {
      "cell_type": "code",
      "source": [
        "train_df = df[:25000]\n",
        "test_df = df[25000:]\n",
        "\n",
        "train_df.to_csv(\"train_data.csv\", index=False)\n",
        "test_df.to_csv(\"test_data.csv\", index=False)"
      ],
      "metadata": {
        "id": "01McoifL7xi5"
      },
      "execution_count": 22,
      "outputs": []
    },
    {
      "cell_type": "code",
      "source": [
        "from torchtext.legacy import data\n",
        "\n",
        "TEXT = data.Field(sequential=True,\n",
        "                  use_vocab=True,\n",
        "                  tokenize=str.split,\n",
        "                  lower=True,\n",
        "                  #batch_first=True, # <== 이 부분을 True로 합니다.\n",
        "                  fix_length=20)\n",
        "\n",
        "LABEL = data.Field(sequential=False,\n",
        "                   use_vocab=False,\n",
        "                   batch_first=False,\n",
        "                   is_target=True)"
      ],
      "metadata": {
        "id": "Xhs-LvFR8T9c"
      },
      "execution_count": 28,
      "outputs": []
    },
    {
      "cell_type": "code",
      "source": [
        "from torchtext.legacy.data import TabularDataset\n",
        "from torchtext.legacy.data import Iterator\n",
        "\n",
        "train_data, test_data = TabularDataset.splits(\n",
        "    path='.', train='train_data.csv', test='test_data.csv', format='csv',\n",
        "    fields=[('text', TEXT), ('lable', LABEL)], skip_header=True)\n",
        "\n",
        "TEXT.build_vocab(train_data, min_freq=10, max_size=10000) \n",
        "LABEL.build_vocab(train_data)\n",
        "\n",
        "batch_size = 5\n",
        "train_loader = Iterator(dataset=train_data, batch_size = batch_size)"
      ],
      "metadata": {
        "id": "YWzLjEs09TJ1"
      },
      "execution_count": 29,
      "outputs": []
    },
    {
      "cell_type": "code",
      "source": [
        "batch=next(iter(train_loader))\n",
        "print(batch.text)"
      ],
      "metadata": {
        "id": "i9DVszAh_Z9v"
      },
      "execution_count": null,
      "outputs": []
    }
  ]
}